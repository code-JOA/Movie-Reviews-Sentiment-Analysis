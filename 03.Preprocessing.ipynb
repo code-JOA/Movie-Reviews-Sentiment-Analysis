{
 "cells": [
  {
   "cell_type": "code",
   "execution_count": 1,
   "metadata": {},
   "outputs": [],
   "source": [
    "import pandas as pd\n",
    "import numpy as np\n",
    "import matplotlib.pyplot as plt\n",
    "%matplotlib inline\n",
    "from functions import *\n",
    "from tmdbv3api import TMDb\n",
    "import requests\n",
    "import json\n",
    "\n",
    "import warnings\n",
    "warnings.filterwarnings(\"ignore\")"
   ]
  },
  {
   "cell_type": "markdown",
   "metadata": {},
   "source": [
    "# Extracting features of 20218 movies from Wikipdeia"
   ]
  },
  {
   "cell_type": "code",
   "execution_count": 2,
   "metadata": {},
   "outputs": [
    {
     "name": "stdout",
     "output_type": "stream",
     "text": [
      "Requirement already satisfied: lxml in /Users/flatironschool/opt/anaconda3/envs/learn-env/lib/python3.6/site-packages (4.5.2)\r\n"
     ]
    }
   ],
   "source": [
    "!pip install lxml"
   ]
  },
  {
   "cell_type": "code",
   "execution_count": 3,
   "metadata": {},
   "outputs": [],
   "source": [
    "link = \"https://en.wikipedia.org/wiki/List_of_American_films_of_2018\"\n",
    "df1 = pd.read_html(link, header=0)[2]\n",
    "df2 = pd.read_html(link, header=0)[3]\n",
    "df3 = pd.read_html(link, header=0)[4]\n",
    "df4 = pd.read_html(link, header=0)[5]"
   ]
  },
  {
   "cell_type": "code",
   "execution_count": 4,
   "metadata": {},
   "outputs": [
    {
     "data": {
      "text/html": [
       "<div>\n",
       "<style scoped>\n",
       "    .dataframe tbody tr th:only-of-type {\n",
       "        vertical-align: middle;\n",
       "    }\n",
       "\n",
       "    .dataframe tbody tr th {\n",
       "        vertical-align: top;\n",
       "    }\n",
       "\n",
       "    .dataframe thead th {\n",
       "        text-align: right;\n",
       "    }\n",
       "</style>\n",
       "<table border=\"1\" class=\"dataframe\">\n",
       "  <thead>\n",
       "    <tr style=\"text-align: right;\">\n",
       "      <th></th>\n",
       "      <th>Opening</th>\n",
       "      <th>Opening.1</th>\n",
       "      <th>Title</th>\n",
       "      <th>Production company</th>\n",
       "      <th>Cast and crew</th>\n",
       "      <th>Ref.</th>\n",
       "    </tr>\n",
       "  </thead>\n",
       "  <tbody>\n",
       "    <tr>\n",
       "      <th>0</th>\n",
       "      <td>JANUARY</td>\n",
       "      <td>5</td>\n",
       "      <td>Insidious: The Last Key</td>\n",
       "      <td>Universal Pictures / Blumhouse Productions / S...</td>\n",
       "      <td>Adam Robitel (director); Leigh Whannell (scree...</td>\n",
       "      <td>[2]</td>\n",
       "    </tr>\n",
       "    <tr>\n",
       "      <th>1</th>\n",
       "      <td>JANUARY</td>\n",
       "      <td>5</td>\n",
       "      <td>The Strange Ones</td>\n",
       "      <td>Vertical Entertainment</td>\n",
       "      <td>Lauren Wolkstein (director); Christopher Radcl...</td>\n",
       "      <td>[3]</td>\n",
       "    </tr>\n",
       "    <tr>\n",
       "      <th>2</th>\n",
       "      <td>JANUARY</td>\n",
       "      <td>5</td>\n",
       "      <td>Stratton</td>\n",
       "      <td>Momentum Pictures</td>\n",
       "      <td>Simon West (director); Duncan Falconer, Warren...</td>\n",
       "      <td>[4]</td>\n",
       "    </tr>\n",
       "    <tr>\n",
       "      <th>3</th>\n",
       "      <td>JANUARY</td>\n",
       "      <td>10</td>\n",
       "      <td>Sweet Country</td>\n",
       "      <td>Samuel Goldwyn Films</td>\n",
       "      <td>Warwick Thornton (director); David Tranter, St...</td>\n",
       "      <td>[5]</td>\n",
       "    </tr>\n",
       "    <tr>\n",
       "      <th>4</th>\n",
       "      <td>JANUARY</td>\n",
       "      <td>12</td>\n",
       "      <td>The Commuter</td>\n",
       "      <td>Lionsgate / StudioCanal / The Picture Company</td>\n",
       "      <td>Jaume Collet-Serra (director); Byron Willinger...</td>\n",
       "      <td>[6]</td>\n",
       "    </tr>\n",
       "    <tr>\n",
       "      <th>...</th>\n",
       "      <td>...</td>\n",
       "      <td>...</td>\n",
       "      <td>...</td>\n",
       "      <td>...</td>\n",
       "      <td>...</td>\n",
       "      <td>...</td>\n",
       "    </tr>\n",
       "    <tr>\n",
       "      <th>68</th>\n",
       "      <td>MARCH</td>\n",
       "      <td>29</td>\n",
       "      <td>Ready Player One</td>\n",
       "      <td>Warner Bros. Pictures / Village Roadshow Pictu...</td>\n",
       "      <td>Steven Spielberg (director); Ernest Cline, Zak...</td>\n",
       "      <td>[70]</td>\n",
       "    </tr>\n",
       "    <tr>\n",
       "      <th>69</th>\n",
       "      <td>MARCH</td>\n",
       "      <td>30</td>\n",
       "      <td>Tyler Perry's Acrimony</td>\n",
       "      <td>Lionsgate / Tyler Perry Films</td>\n",
       "      <td>Tyler Perry (director/screenplay); Taraji P. H...</td>\n",
       "      <td>[71]</td>\n",
       "    </tr>\n",
       "    <tr>\n",
       "      <th>70</th>\n",
       "      <td>MARCH</td>\n",
       "      <td>30</td>\n",
       "      <td>God's Not Dead: A Light in Darkness</td>\n",
       "      <td>Pure Flix</td>\n",
       "      <td>Michael Mason (director/screenplay); David A. ...</td>\n",
       "      <td>[72]</td>\n",
       "    </tr>\n",
       "    <tr>\n",
       "      <th>71</th>\n",
       "      <td>MARCH</td>\n",
       "      <td>30</td>\n",
       "      <td>Gemini</td>\n",
       "      <td>Neon</td>\n",
       "      <td>Aaron Katz (director/screenplay); Lola Kirke, ...</td>\n",
       "      <td>[73]</td>\n",
       "    </tr>\n",
       "    <tr>\n",
       "      <th>72</th>\n",
       "      <td>MARCH</td>\n",
       "      <td>30</td>\n",
       "      <td>The Last Movie Star</td>\n",
       "      <td>A24</td>\n",
       "      <td>Adam Rifkin (director/screenplay); Burt Reynol...</td>\n",
       "      <td>[74]</td>\n",
       "    </tr>\n",
       "  </tbody>\n",
       "</table>\n",
       "<p>73 rows × 6 columns</p>\n",
       "</div>"
      ],
      "text/plain": [
       "    Opening  Opening.1                                Title  \\\n",
       "0   JANUARY          5              Insidious: The Last Key   \n",
       "1   JANUARY          5                     The Strange Ones   \n",
       "2   JANUARY          5                             Stratton   \n",
       "3   JANUARY         10                        Sweet Country   \n",
       "4   JANUARY         12                         The Commuter   \n",
       "..      ...        ...                                  ...   \n",
       "68    MARCH         29                     Ready Player One   \n",
       "69    MARCH         30               Tyler Perry's Acrimony   \n",
       "70    MARCH         30  God's Not Dead: A Light in Darkness   \n",
       "71    MARCH         30                               Gemini   \n",
       "72    MARCH         30                  The Last Movie Star   \n",
       "\n",
       "                                   Production company  \\\n",
       "0   Universal Pictures / Blumhouse Productions / S...   \n",
       "1                              Vertical Entertainment   \n",
       "2                                   Momentum Pictures   \n",
       "3                                Samuel Goldwyn Films   \n",
       "4       Lionsgate / StudioCanal / The Picture Company   \n",
       "..                                                ...   \n",
       "68  Warner Bros. Pictures / Village Roadshow Pictu...   \n",
       "69                      Lionsgate / Tyler Perry Films   \n",
       "70                                          Pure Flix   \n",
       "71                                               Neon   \n",
       "72                                                A24   \n",
       "\n",
       "                                        Cast and crew  Ref.  \n",
       "0   Adam Robitel (director); Leigh Whannell (scree...   [2]  \n",
       "1   Lauren Wolkstein (director); Christopher Radcl...   [3]  \n",
       "2   Simon West (director); Duncan Falconer, Warren...   [4]  \n",
       "3   Warwick Thornton (director); David Tranter, St...   [5]  \n",
       "4   Jaume Collet-Serra (director); Byron Willinger...   [6]  \n",
       "..                                                ...   ...  \n",
       "68  Steven Spielberg (director); Ernest Cline, Zak...  [70]  \n",
       "69  Tyler Perry (director/screenplay); Taraji P. H...  [71]  \n",
       "70  Michael Mason (director/screenplay); David A. ...  [72]  \n",
       "71  Aaron Katz (director/screenplay); Lola Kirke, ...  [73]  \n",
       "72  Adam Rifkin (director/screenplay); Burt Reynol...  [74]  \n",
       "\n",
       "[73 rows x 6 columns]"
      ]
     },
     "execution_count": 4,
     "metadata": {},
     "output_type": "execute_result"
    }
   ],
   "source": [
    "df1"
   ]
  },
  {
   "cell_type": "code",
   "execution_count": 5,
   "metadata": {},
   "outputs": [],
   "source": [
    "# Combining All the df to create one DataFrame"
   ]
  },
  {
   "cell_type": "code",
   "execution_count": 6,
   "metadata": {},
   "outputs": [],
   "source": [
    "data = df1.append(df2.append(df3.append(df4,ignore_index=True),ignore_index=True),\n",
    "                  ignore_index=True)"
   ]
  },
  {
   "cell_type": "code",
   "execution_count": 7,
   "metadata": {},
   "outputs": [
    {
     "data": {
      "text/html": [
       "<div>\n",
       "<style scoped>\n",
       "    .dataframe tbody tr th:only-of-type {\n",
       "        vertical-align: middle;\n",
       "    }\n",
       "\n",
       "    .dataframe tbody tr th {\n",
       "        vertical-align: top;\n",
       "    }\n",
       "\n",
       "    .dataframe thead th {\n",
       "        text-align: right;\n",
       "    }\n",
       "</style>\n",
       "<table border=\"1\" class=\"dataframe\">\n",
       "  <thead>\n",
       "    <tr style=\"text-align: right;\">\n",
       "      <th></th>\n",
       "      <th>Opening</th>\n",
       "      <th>Opening.1</th>\n",
       "      <th>Title</th>\n",
       "      <th>Production company</th>\n",
       "      <th>Cast and crew</th>\n",
       "      <th>Ref.</th>\n",
       "    </tr>\n",
       "  </thead>\n",
       "  <tbody>\n",
       "    <tr>\n",
       "      <th>0</th>\n",
       "      <td>JANUARY</td>\n",
       "      <td>5</td>\n",
       "      <td>Insidious: The Last Key</td>\n",
       "      <td>Universal Pictures / Blumhouse Productions / S...</td>\n",
       "      <td>Adam Robitel (director); Leigh Whannell (scree...</td>\n",
       "      <td>[2]</td>\n",
       "    </tr>\n",
       "    <tr>\n",
       "      <th>1</th>\n",
       "      <td>JANUARY</td>\n",
       "      <td>5</td>\n",
       "      <td>The Strange Ones</td>\n",
       "      <td>Vertical Entertainment</td>\n",
       "      <td>Lauren Wolkstein (director); Christopher Radcl...</td>\n",
       "      <td>[3]</td>\n",
       "    </tr>\n",
       "    <tr>\n",
       "      <th>2</th>\n",
       "      <td>JANUARY</td>\n",
       "      <td>5</td>\n",
       "      <td>Stratton</td>\n",
       "      <td>Momentum Pictures</td>\n",
       "      <td>Simon West (director); Duncan Falconer, Warren...</td>\n",
       "      <td>[4]</td>\n",
       "    </tr>\n",
       "    <tr>\n",
       "      <th>3</th>\n",
       "      <td>JANUARY</td>\n",
       "      <td>10</td>\n",
       "      <td>Sweet Country</td>\n",
       "      <td>Samuel Goldwyn Films</td>\n",
       "      <td>Warwick Thornton (director); David Tranter, St...</td>\n",
       "      <td>[5]</td>\n",
       "    </tr>\n",
       "    <tr>\n",
       "      <th>4</th>\n",
       "      <td>JANUARY</td>\n",
       "      <td>12</td>\n",
       "      <td>The Commuter</td>\n",
       "      <td>Lionsgate / StudioCanal / The Picture Company</td>\n",
       "      <td>Jaume Collet-Serra (director); Byron Willinger...</td>\n",
       "      <td>[6]</td>\n",
       "    </tr>\n",
       "  </tbody>\n",
       "</table>\n",
       "</div>"
      ],
      "text/plain": [
       "   Opening  Opening.1                    Title  \\\n",
       "0  JANUARY          5  Insidious: The Last Key   \n",
       "1  JANUARY          5         The Strange Ones   \n",
       "2  JANUARY          5                 Stratton   \n",
       "3  JANUARY         10            Sweet Country   \n",
       "4  JANUARY         12             The Commuter   \n",
       "\n",
       "                                  Production company  \\\n",
       "0  Universal Pictures / Blumhouse Productions / S...   \n",
       "1                             Vertical Entertainment   \n",
       "2                                  Momentum Pictures   \n",
       "3                               Samuel Goldwyn Films   \n",
       "4      Lionsgate / StudioCanal / The Picture Company   \n",
       "\n",
       "                                       Cast and crew Ref.  \n",
       "0  Adam Robitel (director); Leigh Whannell (scree...  [2]  \n",
       "1  Lauren Wolkstein (director); Christopher Radcl...  [3]  \n",
       "2  Simon West (director); Duncan Falconer, Warren...  [4]  \n",
       "3  Warwick Thornton (director); David Tranter, St...  [5]  \n",
       "4  Jaume Collet-Serra (director); Byron Willinger...  [6]  "
      ]
     },
     "execution_count": 7,
     "metadata": {},
     "output_type": "execute_result"
    }
   ],
   "source": [
    "# Checking the results\n",
    "data.head()"
   ]
  },
  {
   "cell_type": "code",
   "execution_count": 8,
   "metadata": {},
   "outputs": [],
   "source": [
    "# Connecting to the API\n"
   ]
  },
  {
   "cell_type": "code",
   "execution_count": 9,
   "metadata": {},
   "outputs": [],
   "source": [
    "response = \"https://api.themoviedb.org/3/movie/550?api_key=de0b39d4bd85599f2e0dbce743bb0857\"\n",
    "    "
   ]
  },
  {
   "cell_type": "code",
   "execution_count": 10,
   "metadata": {},
   "outputs": [],
   "source": [
    "tmdb = TMDb()\n",
    "tmdb.api_key = \"de0b39d4bd85599f2e0dbce743bb0857\""
   ]
  },
  {
   "cell_type": "code",
   "execution_count": 11,
   "metadata": {},
   "outputs": [],
   "source": [
    "response = requests.get('https://api.themoviedb.org/3/movie/{}?api_key=de0b39d4bd85599f2e0dbce743bb0857')\n"
   ]
  },
  {
   "cell_type": "code",
   "execution_count": 12,
   "metadata": {},
   "outputs": [],
   "source": [
    "# from tmdbv3api import Movie\n",
    "# tmdb_movie = Movie()\n",
    "# def get_genre(x):\n",
    "#     genres = []\n",
    "#     result = tmdb_movie.search(x)\n",
    "#     movie_id = result[0].id\n",
    "#     response = requests.get('https://api.themoviedb.org/3/movie/{}?api_key={}'.format(movie_id,tmdb.api_key))\n",
    "#     data_json = response.json()\n",
    "#     if data_json['genres']:\n",
    "#         genre_str = \" \" \n",
    "#         for i in range(0,len(data_json['genres'])):\n",
    "#             genres.append(data_json['genres'][i]['name'])\n",
    "#         return genre_str.join(genres)\n",
    "#     else:\n",
    "#         np.NaN"
   ]
  },
  {
   "cell_type": "code",
   "execution_count": null,
   "metadata": {},
   "outputs": [],
   "source": [
    "# de0b39d4bd85599f2e0dbce743bb0857"
   ]
  },
  {
   "cell_type": "code",
   "execution_count": 14,
   "metadata": {},
   "outputs": [],
   "source": [
    "data['Genre'] = data[\"Title\"].map(lambda x: Get_genre(str(x)))"
   ]
  },
  {
   "cell_type": "code",
   "execution_count": 15,
   "metadata": {},
   "outputs": [
    {
     "data": {
      "text/html": [
       "<div>\n",
       "<style scoped>\n",
       "    .dataframe tbody tr th:only-of-type {\n",
       "        vertical-align: middle;\n",
       "    }\n",
       "\n",
       "    .dataframe tbody tr th {\n",
       "        vertical-align: top;\n",
       "    }\n",
       "\n",
       "    .dataframe thead th {\n",
       "        text-align: right;\n",
       "    }\n",
       "</style>\n",
       "<table border=\"1\" class=\"dataframe\">\n",
       "  <thead>\n",
       "    <tr style=\"text-align: right;\">\n",
       "      <th></th>\n",
       "      <th>Opening</th>\n",
       "      <th>Opening.1</th>\n",
       "      <th>Title</th>\n",
       "      <th>Production company</th>\n",
       "      <th>Cast and crew</th>\n",
       "      <th>Ref.</th>\n",
       "      <th>Genre</th>\n",
       "    </tr>\n",
       "  </thead>\n",
       "  <tbody>\n",
       "    <tr>\n",
       "      <th>0</th>\n",
       "      <td>JANUARY</td>\n",
       "      <td>5</td>\n",
       "      <td>Insidious: The Last Key</td>\n",
       "      <td>Universal Pictures / Blumhouse Productions / S...</td>\n",
       "      <td>Adam Robitel (director); Leigh Whannell (scree...</td>\n",
       "      <td>[2]</td>\n",
       "      <td>Mystery Horror Thriller</td>\n",
       "    </tr>\n",
       "    <tr>\n",
       "      <th>1</th>\n",
       "      <td>JANUARY</td>\n",
       "      <td>5</td>\n",
       "      <td>The Strange Ones</td>\n",
       "      <td>Vertical Entertainment</td>\n",
       "      <td>Lauren Wolkstein (director); Christopher Radcl...</td>\n",
       "      <td>[3]</td>\n",
       "      <td>Thriller Drama</td>\n",
       "    </tr>\n",
       "    <tr>\n",
       "      <th>2</th>\n",
       "      <td>JANUARY</td>\n",
       "      <td>5</td>\n",
       "      <td>Stratton</td>\n",
       "      <td>Momentum Pictures</td>\n",
       "      <td>Simon West (director); Duncan Falconer, Warren...</td>\n",
       "      <td>[4]</td>\n",
       "      <td>Action Thriller</td>\n",
       "    </tr>\n",
       "    <tr>\n",
       "      <th>3</th>\n",
       "      <td>JANUARY</td>\n",
       "      <td>10</td>\n",
       "      <td>Sweet Country</td>\n",
       "      <td>Samuel Goldwyn Films</td>\n",
       "      <td>Warwick Thornton (director); David Tranter, St...</td>\n",
       "      <td>[5]</td>\n",
       "      <td>Drama History Western</td>\n",
       "    </tr>\n",
       "    <tr>\n",
       "      <th>4</th>\n",
       "      <td>JANUARY</td>\n",
       "      <td>12</td>\n",
       "      <td>The Commuter</td>\n",
       "      <td>Lionsgate / StudioCanal / The Picture Company</td>\n",
       "      <td>Jaume Collet-Serra (director); Byron Willinger...</td>\n",
       "      <td>[6]</td>\n",
       "      <td>Action Thriller</td>\n",
       "    </tr>\n",
       "  </tbody>\n",
       "</table>\n",
       "</div>"
      ],
      "text/plain": [
       "   Opening  Opening.1                    Title  \\\n",
       "0  JANUARY          5  Insidious: The Last Key   \n",
       "1  JANUARY          5         The Strange Ones   \n",
       "2  JANUARY          5                 Stratton   \n",
       "3  JANUARY         10            Sweet Country   \n",
       "4  JANUARY         12             The Commuter   \n",
       "\n",
       "                                  Production company  \\\n",
       "0  Universal Pictures / Blumhouse Productions / S...   \n",
       "1                             Vertical Entertainment   \n",
       "2                                  Momentum Pictures   \n",
       "3                               Samuel Goldwyn Films   \n",
       "4      Lionsgate / StudioCanal / The Picture Company   \n",
       "\n",
       "                                       Cast and crew Ref.  \\\n",
       "0  Adam Robitel (director); Leigh Whannell (scree...  [2]   \n",
       "1  Lauren Wolkstein (director); Christopher Radcl...  [3]   \n",
       "2  Simon West (director); Duncan Falconer, Warren...  [4]   \n",
       "3  Warwick Thornton (director); David Tranter, St...  [5]   \n",
       "4  Jaume Collet-Serra (director); Byron Willinger...  [6]   \n",
       "\n",
       "                     Genre  \n",
       "0  Mystery Horror Thriller  \n",
       "1           Thriller Drama  \n",
       "2          Action Thriller  \n",
       "3    Drama History Western  \n",
       "4          Action Thriller  "
      ]
     },
     "execution_count": 15,
     "metadata": {},
     "output_type": "execute_result"
    }
   ],
   "source": [
    "# Check results\n",
    "data.head()"
   ]
  },
  {
   "cell_type": "code",
   "execution_count": 16,
   "metadata": {},
   "outputs": [
    {
     "data": {
      "text/html": [
       "<div>\n",
       "<style scoped>\n",
       "    .dataframe tbody tr th:only-of-type {\n",
       "        vertical-align: middle;\n",
       "    }\n",
       "\n",
       "    .dataframe tbody tr th {\n",
       "        vertical-align: top;\n",
       "    }\n",
       "\n",
       "    .dataframe thead th {\n",
       "        text-align: right;\n",
       "    }\n",
       "</style>\n",
       "<table border=\"1\" class=\"dataframe\">\n",
       "  <thead>\n",
       "    <tr style=\"text-align: right;\">\n",
       "      <th></th>\n",
       "      <th>Title</th>\n",
       "      <th>Cast and crew</th>\n",
       "      <th>Genre</th>\n",
       "    </tr>\n",
       "  </thead>\n",
       "  <tbody>\n",
       "    <tr>\n",
       "      <th>0</th>\n",
       "      <td>Insidious: The Last Key</td>\n",
       "      <td>Adam Robitel (director); Leigh Whannell (scree...</td>\n",
       "      <td>Mystery Horror Thriller</td>\n",
       "    </tr>\n",
       "    <tr>\n",
       "      <th>1</th>\n",
       "      <td>The Strange Ones</td>\n",
       "      <td>Lauren Wolkstein (director); Christopher Radcl...</td>\n",
       "      <td>Thriller Drama</td>\n",
       "    </tr>\n",
       "    <tr>\n",
       "      <th>2</th>\n",
       "      <td>Stratton</td>\n",
       "      <td>Simon West (director); Duncan Falconer, Warren...</td>\n",
       "      <td>Action Thriller</td>\n",
       "    </tr>\n",
       "    <tr>\n",
       "      <th>3</th>\n",
       "      <td>Sweet Country</td>\n",
       "      <td>Warwick Thornton (director); David Tranter, St...</td>\n",
       "      <td>Drama History Western</td>\n",
       "    </tr>\n",
       "    <tr>\n",
       "      <th>4</th>\n",
       "      <td>The Commuter</td>\n",
       "      <td>Jaume Collet-Serra (director); Byron Willinger...</td>\n",
       "      <td>Action Thriller</td>\n",
       "    </tr>\n",
       "  </tbody>\n",
       "</table>\n",
       "</div>"
      ],
      "text/plain": [
       "                     Title                                      Cast and crew  \\\n",
       "0  Insidious: The Last Key  Adam Robitel (director); Leigh Whannell (scree...   \n",
       "1         The Strange Ones  Lauren Wolkstein (director); Christopher Radcl...   \n",
       "2                 Stratton  Simon West (director); Duncan Falconer, Warren...   \n",
       "3            Sweet Country  Warwick Thornton (director); David Tranter, St...   \n",
       "4             The Commuter  Jaume Collet-Serra (director); Byron Willinger...   \n",
       "\n",
       "                     Genre  \n",
       "0  Mystery Horror Thriller  \n",
       "1           Thriller Drama  \n",
       "2          Action Thriller  \n",
       "3    Drama History Western  \n",
       "4          Action Thriller  "
      ]
     },
     "execution_count": 16,
     "metadata": {},
     "output_type": "execute_result"
    }
   ],
   "source": [
    "# Selecting the data I am interested in\n",
    "data_2018 = data[[\"Title\",\"Cast and crew\",\"Genre\"]]\n",
    "data_2018.head()"
   ]
  },
  {
   "cell_type": "code",
   "execution_count": null,
   "metadata": {},
   "outputs": [],
   "source": [
    "# Using the get_director function to extract directors from the dataframe \n"
   ]
  },
  {
   "cell_type": "code",
   "execution_count": null,
   "metadata": {},
   "outputs": [],
   "source": [
    "# def get_director(x):\n",
    "#     if \" (director) in x\":\n",
    "#         return x.split(\" (director)\")[0]\n",
    "#     elif \" (directors)\" in x:\n",
    "#         return x.split(\" (directors)\")[0]\n",
    "#     else:\n",
    "#         return x.split(\" (director/screenplay)\")[0]"
   ]
  },
  {
   "cell_type": "code",
   "execution_count": 17,
   "metadata": {},
   "outputs": [],
   "source": [
    "data_2018[\"Director\"] = data_2018[\"Cast and crew\"].map(lambda x: Get_director(x))"
   ]
  },
  {
   "cell_type": "markdown",
   "metadata": {},
   "source": [
    "# Leading Actor"
   ]
  },
  {
   "cell_type": "code",
   "execution_count": null,
   "metadata": {},
   "outputs": [],
   "source": []
  },
  {
   "cell_type": "code",
   "execution_count": 18,
   "metadata": {},
   "outputs": [],
   "source": [
    "data_2018['Main_actor'] = data_2018['Cast and crew'].map(lambda x: Get_actor1(x))"
   ]
  },
  {
   "cell_type": "markdown",
   "metadata": {},
   "source": [
    "# Supporting Actor"
   ]
  },
  {
   "cell_type": "code",
   "execution_count": null,
   "metadata": {},
   "outputs": [],
   "source": []
  },
  {
   "cell_type": "code",
   "execution_count": 19,
   "metadata": {},
   "outputs": [],
   "source": [
    "data_2018[\"Second_actor\"] = data_2018[\"Cast and crew\"].map(lambda x: Get_actor2(x))"
   ]
  },
  {
   "cell_type": "markdown",
   "metadata": {},
   "source": [
    "# 3rd actor"
   ]
  },
  {
   "cell_type": "code",
   "execution_count": null,
   "metadata": {},
   "outputs": [],
   "source": []
  },
  {
   "cell_type": "code",
   "execution_count": 20,
   "metadata": {},
   "outputs": [],
   "source": [
    "data_2018[\"Third_actor\"] = data_2018[\"Cast and crew\"].map(lambda x: Get_actor3(x))"
   ]
  },
  {
   "cell_type": "code",
   "execution_count": 21,
   "metadata": {},
   "outputs": [
    {
     "data": {
      "text/html": [
       "<div>\n",
       "<style scoped>\n",
       "    .dataframe tbody tr th:only-of-type {\n",
       "        vertical-align: middle;\n",
       "    }\n",
       "\n",
       "    .dataframe tbody tr th {\n",
       "        vertical-align: top;\n",
       "    }\n",
       "\n",
       "    .dataframe thead th {\n",
       "        text-align: right;\n",
       "    }\n",
       "</style>\n",
       "<table border=\"1\" class=\"dataframe\">\n",
       "  <thead>\n",
       "    <tr style=\"text-align: right;\">\n",
       "      <th></th>\n",
       "      <th>Title</th>\n",
       "      <th>Cast and crew</th>\n",
       "      <th>Genre</th>\n",
       "      <th>Director</th>\n",
       "      <th>Main_actor</th>\n",
       "      <th>Second_actor</th>\n",
       "      <th>Third_actor</th>\n",
       "    </tr>\n",
       "  </thead>\n",
       "  <tbody>\n",
       "    <tr>\n",
       "      <th>0</th>\n",
       "      <td>Insidious: The Last Key</td>\n",
       "      <td>Adam Robitel (director); Leigh Whannell (scree...</td>\n",
       "      <td>Mystery Horror Thriller</td>\n",
       "      <td>Adam Robitel</td>\n",
       "      <td>Lin Shaye</td>\n",
       "      <td>Angus Sampson</td>\n",
       "      <td>Leigh Whannell</td>\n",
       "    </tr>\n",
       "    <tr>\n",
       "      <th>1</th>\n",
       "      <td>The Strange Ones</td>\n",
       "      <td>Lauren Wolkstein (director); Christopher Radcl...</td>\n",
       "      <td>Thriller Drama</td>\n",
       "      <td>Lauren Wolkstein</td>\n",
       "      <td>Alex Pettyfer</td>\n",
       "      <td>James Freedson-Jackson</td>\n",
       "      <td>Emily Althaus</td>\n",
       "    </tr>\n",
       "    <tr>\n",
       "      <th>2</th>\n",
       "      <td>Stratton</td>\n",
       "      <td>Simon West (director); Duncan Falconer, Warren...</td>\n",
       "      <td>Action Thriller</td>\n",
       "      <td>Simon West</td>\n",
       "      <td>Dominic Cooper</td>\n",
       "      <td>Austin Stowell</td>\n",
       "      <td>Gemma Chan</td>\n",
       "    </tr>\n",
       "    <tr>\n",
       "      <th>3</th>\n",
       "      <td>Sweet Country</td>\n",
       "      <td>Warwick Thornton (director); David Tranter, St...</td>\n",
       "      <td>Drama History Western</td>\n",
       "      <td>Warwick Thornton</td>\n",
       "      <td>Bryan Brown</td>\n",
       "      <td>Sam Neill</td>\n",
       "      <td>NaN</td>\n",
       "    </tr>\n",
       "    <tr>\n",
       "      <th>4</th>\n",
       "      <td>The Commuter</td>\n",
       "      <td>Jaume Collet-Serra (director); Byron Willinger...</td>\n",
       "      <td>Action Thriller</td>\n",
       "      <td>Jaume Collet-Serra</td>\n",
       "      <td>Liam Neeson</td>\n",
       "      <td>Vera Farmiga</td>\n",
       "      <td>Patrick Wilson</td>\n",
       "    </tr>\n",
       "  </tbody>\n",
       "</table>\n",
       "</div>"
      ],
      "text/plain": [
       "                     Title                                      Cast and crew  \\\n",
       "0  Insidious: The Last Key  Adam Robitel (director); Leigh Whannell (scree...   \n",
       "1         The Strange Ones  Lauren Wolkstein (director); Christopher Radcl...   \n",
       "2                 Stratton  Simon West (director); Duncan Falconer, Warren...   \n",
       "3            Sweet Country  Warwick Thornton (director); David Tranter, St...   \n",
       "4             The Commuter  Jaume Collet-Serra (director); Byron Willinger...   \n",
       "\n",
       "                     Genre            Director      Main_actor  \\\n",
       "0  Mystery Horror Thriller        Adam Robitel       Lin Shaye   \n",
       "1           Thriller Drama    Lauren Wolkstein   Alex Pettyfer   \n",
       "2          Action Thriller          Simon West  Dominic Cooper   \n",
       "3    Drama History Western    Warwick Thornton     Bryan Brown   \n",
       "4          Action Thriller  Jaume Collet-Serra     Liam Neeson   \n",
       "\n",
       "             Second_actor     Third_actor  \n",
       "0           Angus Sampson  Leigh Whannell  \n",
       "1  James Freedson-Jackson   Emily Althaus  \n",
       "2          Austin Stowell      Gemma Chan  \n",
       "3               Sam Neill             NaN  \n",
       "4            Vera Farmiga  Patrick Wilson  "
      ]
     },
     "execution_count": 21,
     "metadata": {},
     "output_type": "execute_result"
    }
   ],
   "source": [
    "data_2018.head()"
   ]
  },
  {
   "cell_type": "code",
   "execution_count": null,
   "metadata": {},
   "outputs": [],
   "source": []
  },
  {
   "cell_type": "markdown",
   "metadata": {},
   "source": [
    "# Renaming columns"
   ]
  },
  {
   "cell_type": "code",
   "execution_count": 22,
   "metadata": {},
   "outputs": [],
   "source": [
    "data_2018.rename(columns={\"Title\":\"movie_title\"} , inplace=True)"
   ]
  },
  {
   "cell_type": "code",
   "execution_count": 23,
   "metadata": {},
   "outputs": [
    {
     "data": {
      "text/plain": [
       "Index(['movie_title', 'Cast and crew', 'Genre', 'Director', 'Main_actor',\n",
       "       'Second_actor', 'Third_actor'],\n",
       "      dtype='object')"
      ]
     },
     "execution_count": 23,
     "metadata": {},
     "output_type": "execute_result"
    }
   ],
   "source": [
    "data_2018.columns"
   ]
  },
  {
   "cell_type": "code",
   "execution_count": null,
   "metadata": {},
   "outputs": [],
   "source": [
    "# selecting important columns for new df"
   ]
  },
  {
   "cell_type": "code",
   "execution_count": 25,
   "metadata": {},
   "outputs": [],
   "source": [
    "data2018_new = data_2018[[\"Director\",\"Main_actor\",\"Second_actor\",\"Third_actor\",\"Genre\",\"movie_title\"]]"
   ]
  },
  {
   "cell_type": "code",
   "execution_count": null,
   "metadata": {},
   "outputs": [],
   "source": []
  },
  {
   "cell_type": "code",
   "execution_count": 26,
   "metadata": {},
   "outputs": [
    {
     "data": {
      "text/html": [
       "<div>\n",
       "<style scoped>\n",
       "    .dataframe tbody tr th:only-of-type {\n",
       "        vertical-align: middle;\n",
       "    }\n",
       "\n",
       "    .dataframe tbody tr th {\n",
       "        vertical-align: top;\n",
       "    }\n",
       "\n",
       "    .dataframe thead th {\n",
       "        text-align: right;\n",
       "    }\n",
       "</style>\n",
       "<table border=\"1\" class=\"dataframe\">\n",
       "  <thead>\n",
       "    <tr style=\"text-align: right;\">\n",
       "      <th></th>\n",
       "      <th>Director</th>\n",
       "      <th>Main_actor</th>\n",
       "      <th>Second_actor</th>\n",
       "      <th>Third_actor</th>\n",
       "      <th>Genre</th>\n",
       "      <th>movie_title</th>\n",
       "    </tr>\n",
       "  </thead>\n",
       "  <tbody>\n",
       "    <tr>\n",
       "      <th>0</th>\n",
       "      <td>Adam Robitel</td>\n",
       "      <td>Lin Shaye</td>\n",
       "      <td>Angus Sampson</td>\n",
       "      <td>Leigh Whannell</td>\n",
       "      <td>Mystery Horror Thriller</td>\n",
       "      <td>Insidious: The Last Key</td>\n",
       "    </tr>\n",
       "    <tr>\n",
       "      <th>1</th>\n",
       "      <td>Lauren Wolkstein</td>\n",
       "      <td>Alex Pettyfer</td>\n",
       "      <td>James Freedson-Jackson</td>\n",
       "      <td>Emily Althaus</td>\n",
       "      <td>Thriller Drama</td>\n",
       "      <td>The Strange Ones</td>\n",
       "    </tr>\n",
       "    <tr>\n",
       "      <th>2</th>\n",
       "      <td>Simon West</td>\n",
       "      <td>Dominic Cooper</td>\n",
       "      <td>Austin Stowell</td>\n",
       "      <td>Gemma Chan</td>\n",
       "      <td>Action Thriller</td>\n",
       "      <td>Stratton</td>\n",
       "    </tr>\n",
       "    <tr>\n",
       "      <th>3</th>\n",
       "      <td>Warwick Thornton</td>\n",
       "      <td>Bryan Brown</td>\n",
       "      <td>Sam Neill</td>\n",
       "      <td>NaN</td>\n",
       "      <td>Drama History Western</td>\n",
       "      <td>Sweet Country</td>\n",
       "    </tr>\n",
       "    <tr>\n",
       "      <th>4</th>\n",
       "      <td>Jaume Collet-Serra</td>\n",
       "      <td>Liam Neeson</td>\n",
       "      <td>Vera Farmiga</td>\n",
       "      <td>Patrick Wilson</td>\n",
       "      <td>Action Thriller</td>\n",
       "      <td>The Commuter</td>\n",
       "    </tr>\n",
       "  </tbody>\n",
       "</table>\n",
       "</div>"
      ],
      "text/plain": [
       "             Director      Main_actor            Second_actor     Third_actor  \\\n",
       "0        Adam Robitel       Lin Shaye           Angus Sampson  Leigh Whannell   \n",
       "1    Lauren Wolkstein   Alex Pettyfer  James Freedson-Jackson   Emily Althaus   \n",
       "2          Simon West  Dominic Cooper          Austin Stowell      Gemma Chan   \n",
       "3    Warwick Thornton     Bryan Brown               Sam Neill             NaN   \n",
       "4  Jaume Collet-Serra     Liam Neeson            Vera Farmiga  Patrick Wilson   \n",
       "\n",
       "                     Genre              movie_title  \n",
       "0  Mystery Horror Thriller  Insidious: The Last Key  \n",
       "1           Thriller Drama         The Strange Ones  \n",
       "2          Action Thriller                 Stratton  \n",
       "3    Drama History Western            Sweet Country  \n",
       "4          Action Thriller             The Commuter  "
      ]
     },
     "execution_count": 26,
     "metadata": {},
     "output_type": "execute_result"
    }
   ],
   "source": [
    "# Checking final results\n",
    "data2018_new.head()"
   ]
  },
  {
   "cell_type": "code",
   "execution_count": 27,
   "metadata": {},
   "outputs": [
    {
     "data": {
      "text/plain": [
       "Director         0\n",
       "Main_actor       0\n",
       "Second_actor     9\n",
       "Third_actor     26\n",
       "Genre            2\n",
       "movie_title      0\n",
       "dtype: int64"
      ]
     },
     "execution_count": 27,
     "metadata": {},
     "output_type": "execute_result"
    }
   ],
   "source": [
    "data2018_new.isna().sum()"
   ]
  },
  {
   "cell_type": "code",
   "execution_count": 28,
   "metadata": {},
   "outputs": [],
   "source": [
    "data2018_new[\"Second_actor\"] = data2018_new[\"Second_actor\"].replace(np.nan, \"unknown\")\n",
    "data2018_new[\"Third_actor\"] = data2018_new[\"Third_actor\"].replace(np.nan, \"unknown\")"
   ]
  },
  {
   "cell_type": "code",
   "execution_count": null,
   "metadata": {},
   "outputs": [],
   "source": []
  },
  {
   "cell_type": "code",
   "execution_count": null,
   "metadata": {},
   "outputs": [],
   "source": []
  },
  {
   "cell_type": "code",
   "execution_count": null,
   "metadata": {},
   "outputs": [],
   "source": []
  },
  {
   "cell_type": "code",
   "execution_count": null,
   "metadata": {},
   "outputs": [],
   "source": []
  },
  {
   "cell_type": "code",
   "execution_count": null,
   "metadata": {},
   "outputs": [],
   "source": []
  },
  {
   "cell_type": "code",
   "execution_count": null,
   "metadata": {},
   "outputs": [],
   "source": []
  },
  {
   "cell_type": "code",
   "execution_count": null,
   "metadata": {},
   "outputs": [],
   "source": []
  },
  {
   "cell_type": "code",
   "execution_count": null,
   "metadata": {},
   "outputs": [],
   "source": []
  },
  {
   "cell_type": "code",
   "execution_count": null,
   "metadata": {},
   "outputs": [],
   "source": []
  },
  {
   "cell_type": "code",
   "execution_count": null,
   "metadata": {},
   "outputs": [],
   "source": []
  },
  {
   "cell_type": "code",
   "execution_count": null,
   "metadata": {},
   "outputs": [],
   "source": []
  },
  {
   "cell_type": "code",
   "execution_count": null,
   "metadata": {},
   "outputs": [],
   "source": []
  },
  {
   "cell_type": "code",
   "execution_count": null,
   "metadata": {},
   "outputs": [],
   "source": []
  },
  {
   "cell_type": "code",
   "execution_count": null,
   "metadata": {},
   "outputs": [],
   "source": []
  },
  {
   "cell_type": "code",
   "execution_count": null,
   "metadata": {},
   "outputs": [],
   "source": []
  },
  {
   "cell_type": "code",
   "execution_count": null,
   "metadata": {},
   "outputs": [],
   "source": []
  },
  {
   "cell_type": "code",
   "execution_count": null,
   "metadata": {},
   "outputs": [],
   "source": []
  },
  {
   "cell_type": "code",
   "execution_count": null,
   "metadata": {},
   "outputs": [],
   "source": []
  },
  {
   "cell_type": "code",
   "execution_count": null,
   "metadata": {},
   "outputs": [],
   "source": []
  },
  {
   "cell_type": "code",
   "execution_count": null,
   "metadata": {},
   "outputs": [],
   "source": []
  },
  {
   "cell_type": "code",
   "execution_count": null,
   "metadata": {},
   "outputs": [],
   "source": []
  },
  {
   "cell_type": "code",
   "execution_count": null,
   "metadata": {},
   "outputs": [],
   "source": []
  },
  {
   "cell_type": "code",
   "execution_count": null,
   "metadata": {},
   "outputs": [],
   "source": []
  },
  {
   "cell_type": "code",
   "execution_count": null,
   "metadata": {},
   "outputs": [],
   "source": []
  },
  {
   "cell_type": "code",
   "execution_count": null,
   "metadata": {},
   "outputs": [],
   "source": []
  },
  {
   "cell_type": "code",
   "execution_count": null,
   "metadata": {},
   "outputs": [],
   "source": []
  },
  {
   "cell_type": "code",
   "execution_count": null,
   "metadata": {},
   "outputs": [],
   "source": []
  },
  {
   "cell_type": "code",
   "execution_count": null,
   "metadata": {},
   "outputs": [],
   "source": []
  },
  {
   "cell_type": "code",
   "execution_count": null,
   "metadata": {},
   "outputs": [],
   "source": []
  },
  {
   "cell_type": "code",
   "execution_count": null,
   "metadata": {},
   "outputs": [],
   "source": []
  },
  {
   "cell_type": "code",
   "execution_count": null,
   "metadata": {},
   "outputs": [],
   "source": []
  },
  {
   "cell_type": "code",
   "execution_count": null,
   "metadata": {},
   "outputs": [],
   "source": []
  },
  {
   "cell_type": "code",
   "execution_count": null,
   "metadata": {},
   "outputs": [],
   "source": []
  },
  {
   "cell_type": "code",
   "execution_count": null,
   "metadata": {},
   "outputs": [],
   "source": []
  },
  {
   "cell_type": "code",
   "execution_count": null,
   "metadata": {},
   "outputs": [],
   "source": []
  },
  {
   "cell_type": "code",
   "execution_count": null,
   "metadata": {},
   "outputs": [],
   "source": []
  },
  {
   "cell_type": "code",
   "execution_count": null,
   "metadata": {},
   "outputs": [],
   "source": []
  },
  {
   "cell_type": "code",
   "execution_count": null,
   "metadata": {},
   "outputs": [],
   "source": []
  },
  {
   "cell_type": "code",
   "execution_count": null,
   "metadata": {},
   "outputs": [],
   "source": []
  },
  {
   "cell_type": "code",
   "execution_count": null,
   "metadata": {},
   "outputs": [],
   "source": []
  },
  {
   "cell_type": "code",
   "execution_count": null,
   "metadata": {},
   "outputs": [],
   "source": []
  },
  {
   "cell_type": "code",
   "execution_count": null,
   "metadata": {},
   "outputs": [],
   "source": []
  },
  {
   "cell_type": "code",
   "execution_count": null,
   "metadata": {},
   "outputs": [],
   "source": []
  },
  {
   "cell_type": "code",
   "execution_count": null,
   "metadata": {},
   "outputs": [],
   "source": []
  },
  {
   "cell_type": "code",
   "execution_count": null,
   "metadata": {},
   "outputs": [],
   "source": []
  },
  {
   "cell_type": "code",
   "execution_count": null,
   "metadata": {},
   "outputs": [],
   "source": []
  },
  {
   "cell_type": "code",
   "execution_count": null,
   "metadata": {},
   "outputs": [],
   "source": []
  },
  {
   "cell_type": "code",
   "execution_count": null,
   "metadata": {},
   "outputs": [],
   "source": []
  },
  {
   "cell_type": "code",
   "execution_count": null,
   "metadata": {},
   "outputs": [],
   "source": []
  },
  {
   "cell_type": "code",
   "execution_count": null,
   "metadata": {},
   "outputs": [],
   "source": []
  },
  {
   "cell_type": "code",
   "execution_count": null,
   "metadata": {},
   "outputs": [],
   "source": []
  },
  {
   "cell_type": "code",
   "execution_count": null,
   "metadata": {},
   "outputs": [],
   "source": []
  },
  {
   "cell_type": "code",
   "execution_count": null,
   "metadata": {},
   "outputs": [],
   "source": []
  },
  {
   "cell_type": "code",
   "execution_count": null,
   "metadata": {},
   "outputs": [],
   "source": []
  },
  {
   "cell_type": "code",
   "execution_count": null,
   "metadata": {},
   "outputs": [],
   "source": []
  },
  {
   "cell_type": "code",
   "execution_count": null,
   "metadata": {},
   "outputs": [],
   "source": []
  },
  {
   "cell_type": "code",
   "execution_count": null,
   "metadata": {},
   "outputs": [],
   "source": []
  },
  {
   "cell_type": "code",
   "execution_count": null,
   "metadata": {},
   "outputs": [],
   "source": []
  },
  {
   "cell_type": "code",
   "execution_count": null,
   "metadata": {},
   "outputs": [],
   "source": []
  },
  {
   "cell_type": "code",
   "execution_count": null,
   "metadata": {},
   "outputs": [],
   "source": []
  },
  {
   "cell_type": "code",
   "execution_count": null,
   "metadata": {},
   "outputs": [],
   "source": []
  },
  {
   "cell_type": "code",
   "execution_count": null,
   "metadata": {},
   "outputs": [],
   "source": []
  },
  {
   "cell_type": "code",
   "execution_count": null,
   "metadata": {},
   "outputs": [],
   "source": []
  },
  {
   "cell_type": "code",
   "execution_count": null,
   "metadata": {},
   "outputs": [],
   "source": []
  },
  {
   "cell_type": "code",
   "execution_count": null,
   "metadata": {},
   "outputs": [],
   "source": []
  },
  {
   "cell_type": "code",
   "execution_count": null,
   "metadata": {},
   "outputs": [],
   "source": []
  },
  {
   "cell_type": "code",
   "execution_count": null,
   "metadata": {},
   "outputs": [],
   "source": []
  },
  {
   "cell_type": "code",
   "execution_count": null,
   "metadata": {},
   "outputs": [],
   "source": []
  },
  {
   "cell_type": "code",
   "execution_count": null,
   "metadata": {},
   "outputs": [],
   "source": []
  },
  {
   "cell_type": "code",
   "execution_count": null,
   "metadata": {},
   "outputs": [],
   "source": []
  },
  {
   "cell_type": "code",
   "execution_count": null,
   "metadata": {},
   "outputs": [],
   "source": []
  },
  {
   "cell_type": "code",
   "execution_count": null,
   "metadata": {},
   "outputs": [],
   "source": []
  },
  {
   "cell_type": "code",
   "execution_count": null,
   "metadata": {},
   "outputs": [],
   "source": []
  },
  {
   "cell_type": "code",
   "execution_count": null,
   "metadata": {},
   "outputs": [],
   "source": []
  },
  {
   "cell_type": "code",
   "execution_count": null,
   "metadata": {},
   "outputs": [],
   "source": []
  },
  {
   "cell_type": "code",
   "execution_count": null,
   "metadata": {},
   "outputs": [],
   "source": []
  },
  {
   "cell_type": "code",
   "execution_count": null,
   "metadata": {},
   "outputs": [],
   "source": []
  },
  {
   "cell_type": "code",
   "execution_count": null,
   "metadata": {},
   "outputs": [],
   "source": []
  },
  {
   "cell_type": "code",
   "execution_count": null,
   "metadata": {},
   "outputs": [],
   "source": []
  },
  {
   "cell_type": "code",
   "execution_count": null,
   "metadata": {},
   "outputs": [],
   "source": []
  },
  {
   "cell_type": "code",
   "execution_count": null,
   "metadata": {},
   "outputs": [],
   "source": []
  },
  {
   "cell_type": "code",
   "execution_count": null,
   "metadata": {},
   "outputs": [],
   "source": []
  },
  {
   "cell_type": "code",
   "execution_count": null,
   "metadata": {},
   "outputs": [],
   "source": []
  },
  {
   "cell_type": "code",
   "execution_count": null,
   "metadata": {},
   "outputs": [],
   "source": []
  },
  {
   "cell_type": "code",
   "execution_count": null,
   "metadata": {},
   "outputs": [],
   "source": []
  },
  {
   "cell_type": "code",
   "execution_count": null,
   "metadata": {},
   "outputs": [],
   "source": []
  },
  {
   "cell_type": "code",
   "execution_count": null,
   "metadata": {},
   "outputs": [],
   "source": []
  },
  {
   "cell_type": "code",
   "execution_count": null,
   "metadata": {},
   "outputs": [],
   "source": []
  },
  {
   "cell_type": "code",
   "execution_count": null,
   "metadata": {},
   "outputs": [],
   "source": []
  },
  {
   "cell_type": "code",
   "execution_count": null,
   "metadata": {},
   "outputs": [],
   "source": []
  },
  {
   "cell_type": "code",
   "execution_count": null,
   "metadata": {},
   "outputs": [],
   "source": []
  },
  {
   "cell_type": "code",
   "execution_count": null,
   "metadata": {},
   "outputs": [],
   "source": []
  },
  {
   "cell_type": "code",
   "execution_count": null,
   "metadata": {},
   "outputs": [],
   "source": []
  },
  {
   "cell_type": "code",
   "execution_count": null,
   "metadata": {},
   "outputs": [],
   "source": []
  },
  {
   "cell_type": "code",
   "execution_count": null,
   "metadata": {},
   "outputs": [],
   "source": []
  },
  {
   "cell_type": "code",
   "execution_count": null,
   "metadata": {},
   "outputs": [],
   "source": []
  },
  {
   "cell_type": "code",
   "execution_count": null,
   "metadata": {},
   "outputs": [],
   "source": []
  },
  {
   "cell_type": "code",
   "execution_count": null,
   "metadata": {},
   "outputs": [],
   "source": []
  },
  {
   "cell_type": "code",
   "execution_count": null,
   "metadata": {},
   "outputs": [],
   "source": []
  },
  {
   "cell_type": "code",
   "execution_count": null,
   "metadata": {},
   "outputs": [],
   "source": []
  },
  {
   "cell_type": "code",
   "execution_count": null,
   "metadata": {},
   "outputs": [],
   "source": []
  },
  {
   "cell_type": "code",
   "execution_count": null,
   "metadata": {},
   "outputs": [],
   "source": []
  },
  {
   "cell_type": "code",
   "execution_count": null,
   "metadata": {},
   "outputs": [],
   "source": []
  },
  {
   "cell_type": "code",
   "execution_count": null,
   "metadata": {},
   "outputs": [],
   "source": []
  },
  {
   "cell_type": "code",
   "execution_count": null,
   "metadata": {},
   "outputs": [],
   "source": []
  },
  {
   "cell_type": "code",
   "execution_count": null,
   "metadata": {},
   "outputs": [],
   "source": []
  },
  {
   "cell_type": "code",
   "execution_count": null,
   "metadata": {},
   "outputs": [],
   "source": []
  },
  {
   "cell_type": "code",
   "execution_count": null,
   "metadata": {},
   "outputs": [],
   "source": []
  },
  {
   "cell_type": "code",
   "execution_count": null,
   "metadata": {},
   "outputs": [],
   "source": []
  },
  {
   "cell_type": "code",
   "execution_count": null,
   "metadata": {},
   "outputs": [],
   "source": []
  }
 ],
 "metadata": {
  "kernelspec": {
   "display_name": "Python [conda env:learn-env] *",
   "language": "python",
   "name": "conda-env-learn-env-py"
  },
  "language_info": {
   "codemirror_mode": {
    "name": "ipython",
    "version": 3
   },
   "file_extension": ".py",
   "mimetype": "text/x-python",
   "name": "python",
   "nbconvert_exporter": "python",
   "pygments_lexer": "ipython3",
   "version": "3.6.10"
  }
 },
 "nbformat": 4,
 "nbformat_minor": 4
}
